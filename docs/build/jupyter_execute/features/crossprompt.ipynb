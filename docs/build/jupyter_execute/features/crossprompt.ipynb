{
 "cells": [
  {
   "cell_type": "code",
   "execution_count": null,
   "id": "96fe5205",
   "metadata": {},
   "outputs": [
    {
     "name": "stdout",
     "output_type": "stream",
     "text": [
      "Madison square garden is located in the city of New York City.\n",
      "_ _ _ _ _ _ _ _ _ _ York City."
     ]
    }
   ],
   "source": [
    "prompt = \"Madison square garden is located in the city of New\"\n",
    "\n",
    "with model.generate(max_new_tokens=3) as generator:\n",
    "\n",
    "with generator.invoke(prompt) as invoker:\n",
    "\n",
    "    embeddings = model.transformer.wte.output\n",
    "\n",
    "with generator.invoke(\"_ _ _ _ _ _ _ _ _ _\") as invoker:\n",
    "\n",
    "    model.transformer.wte.output = embeddings\n",
    "\n",
    "print(model.tokenizer.decode(generator.output[0]))\n",
    "print(model.tokenizer.decode(generator.output[1]))"
   ]
  },
  {
   "cell_type": "code",
   "execution_count": null,
   "id": "4825e7bf",
   "metadata": {},
   "outputs": [
    {
     "name": "stdout",
     "output_type": "stream",
     "text": [
      "Madison square garden is located in the city of New York City.\n",
      "\n",
      "tensor([[[-0.0063, -0.1795,  0.2060,  ...,  0.1978,  0.1870, -0.1588],\n",
      "        [-0.1256, -0.0201,  0.0853,  ...,  0.0117, -0.1322, -0.0054],\n",
      "        [ 0.1283, -0.1087,  0.1027,  ..., -0.0407, -0.1525, -0.1283],\n",
      "        ...,\n",
      "        [ 0.0030,  0.0874,  0.1263,  ..., -0.0033,  0.1747, -0.0309],\n",
      "        [-0.0572,  0.0183,  0.0333,  ..., -0.0689, -0.0931, -0.0714],\n",
      "        [-0.1341, -0.0436,  0.2236,  ..., -0.1965,  0.0693, -0.1080]]],\n",
      "    device='cuda:0')\n",
      "\n",
      "_ _ _ _ _ _ _ _ _ _ York City."
     ]
    }
   ],
   "source": [
    "prompt = \"Madison square garden is located in the city of New\"\n",
    "\n",
    "with model.generate(max_new_tokens=3) as generator:\n",
    "\n",
    "with generator.invoke(prompt) as invoker:\n",
    "\n",
    "    embeddings = model.transformer.wte.output.save()\n",
    "\n",
    "print(model.tokenizer.decode(generator.output[0]))\n",
    "print(embeddings.value)\n",
    "\n",
    "with model.generate(max_new_tokens=3) as generator:\n",
    "\n",
    "    with generator.invoke(\"_ _ _ _ _ _ _ _ _ _\") as invoker:\n",
    "\n",
    "        model.transformer.wte.output = embeddings.value\n",
    "\n",
    "print(model.tokenizer.decode(generator.output[0]))"
   ]
  }
 ],
 "metadata": {
  "kernelspec": {
   "display_name": "Python 3 (ipykernel)",
   "language": "python",
   "name": "python3"
  },
  "language_info": {
   "codemirror_mode": {
    "name": "ipython",
    "version": 3
   },
   "file_extension": ".py",
   "mimetype": "text/x-python",
   "name": "python",
   "nbconvert_exporter": "python",
   "pygments_lexer": "ipython3",
   "version": "3.7.16"
  }
 },
 "nbformat": 4,
 "nbformat_minor": 5
}