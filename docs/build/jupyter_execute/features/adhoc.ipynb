{
 "cells": [
  {
   "cell_type": "code",
   "execution_count": null,
   "id": "4ac2faae",
   "metadata": {},
   "outputs": [
    {
     "name": "stdout",
     "output_type": "stream",
     "text": [
      "tensor([[[ -36.2874,  -35.0114,  -38.0793,  ...,  -40.5163,  -41.3759,\n",
      "       -34.9193],\n",
      "     [ -68.8886,  -70.1562,  -71.8408,  ...,  -80.4195,  -78.2552,\n",
      "       -71.1206],\n",
      "     [ -82.2950,  -81.6519,  -83.9941,  ...,  -94.4878,  -94.5194,\n",
      "       -85.6998],\n",
      "     ...,\n",
      "     [-113.8675, -111.8628, -113.6634,  ..., -116.7652, -114.8267,\n",
      "      -112.3621],\n",
      "     [ -81.8531,  -83.3006,  -91.8192,  ...,  -92.9943,  -89.8382,\n",
      "       -85.6898],\n",
      "     [-103.9307, -102.5054, -105.1563,  ..., -109.3099, -110.4195,\n",
      "      -103.1395]]], device='cuda:0')\n",
      "\n",
      "tensor([[ 198,   12,  417, 8765,  318,  257,  262, 3504, 7372, 6342]],\n",
      "    device='cuda:0')\n",
      "\n",
      "-el Tower is a the middle centre Paris"
     ]
    }
   ],
   "source": [
    "with model.generate() as generator:\n",
    "with generator.invoke('The Eiffel Tower is in the city of') as invoker:\n",
    "\n",
    "    hidden_states = model.transformer.h[-1].output[0]\n",
    "    hidden_states = model.lm_head(model.transformer.ln_f(hidden_states)).save()\n",
    "    tokens = torch.softmax(hidden_states, dim=2).argmax(dim=2).save()\n",
    "\n",
    "print(hidden_states.value)\n",
    "print(tokens.value)\n",
    "print(model.tokenizer.decode(tokens.value[0]))"
   ]
  }
 ],
 "metadata": {
  "kernelspec": {
   "display_name": "Python 3 (ipykernel)",
   "language": "python",
   "name": "python3"
  },
  "language_info": {
   "codemirror_mode": {
    "name": "ipython",
    "version": 3
   },
   "file_extension": ".py",
   "mimetype": "text/x-python",
   "name": "python",
   "nbconvert_exporter": "python",
   "pygments_lexer": "ipython3",
   "version": "3.7.16"
  }
 },
 "nbformat": 4,
 "nbformat_minor": 5
}